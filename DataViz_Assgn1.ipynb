{
 "cells": [
  {
   "cell_type": "markdown",
   "metadata": {},
   "source": [
    "# Assignment 1"
   ]
  },
  {
   "cell_type": "code",
   "execution_count": 1,
   "metadata": {},
   "outputs": [
    {
     "name": "stdout",
     "output_type": "stream",
     "text": [
      "        Name Symbol  Atomic Number\n",
      "0   Hydrogen      H              1\n",
      "1     Helium     He              2\n",
      "2    Lithium     Li              3\n",
      "3  Beryllium     Be              4\n",
      "4      Boron      B              5\n",
      "5     Carbon      C              6\n",
      "6   Nitrogen      N              7\n",
      "7     Oxygen      O              8\n"
     ]
    }
   ],
   "source": [
    "# Brenda Woodard\n",
    "# Data Visualization\n",
    "\n",
    "# Assignment 1 Part 1\n",
    "\n",
    "import csv\n",
    "import pandas as pd\n",
    "\n",
    "periodic_data = pd.read_csv(\"periodic_table.csv\")\n",
    "df_1=pd.DataFrame(periodic_data)\n",
    "print(df_1)\n"
   ]
  },
  {
   "cell_type": "code",
   "execution_count": 101,
   "metadata": {
    "scrolled": false
   },
   "outputs": [
    {
     "data": {
      "text/html": [
       "<div>\n",
       "<style scoped>\n",
       "    .dataframe tbody tr th:only-of-type {\n",
       "        vertical-align: middle;\n",
       "    }\n",
       "\n",
       "    .dataframe tbody tr th {\n",
       "        vertical-align: top;\n",
       "    }\n",
       "\n",
       "    .dataframe thead th {\n",
       "        text-align: right;\n",
       "    }\n",
       "</style>\n",
       "<table border=\"1\" class=\"dataframe\">\n",
       "  <thead>\n",
       "    <tr style=\"text-align: right;\">\n",
       "      <th></th>\n",
       "      <th>Name</th>\n",
       "      <th>Symbol</th>\n",
       "      <th>Atomic Number</th>\n",
       "    </tr>\n",
       "  </thead>\n",
       "  <tbody>\n",
       "    <tr>\n",
       "      <th>0</th>\n",
       "      <td>Hydrogen</td>\n",
       "      <td>H</td>\n",
       "      <td>1</td>\n",
       "    </tr>\n",
       "    <tr>\n",
       "      <th>1</th>\n",
       "      <td>Helium</td>\n",
       "      <td>He</td>\n",
       "      <td>2</td>\n",
       "    </tr>\n",
       "    <tr>\n",
       "      <th>2</th>\n",
       "      <td>Lithium</td>\n",
       "      <td>Li</td>\n",
       "      <td>3</td>\n",
       "    </tr>\n",
       "    <tr>\n",
       "      <th>3</th>\n",
       "      <td>Beryllium</td>\n",
       "      <td>Be</td>\n",
       "      <td>4</td>\n",
       "    </tr>\n",
       "    <tr>\n",
       "      <th>4</th>\n",
       "      <td>Boron</td>\n",
       "      <td>B</td>\n",
       "      <td>5</td>\n",
       "    </tr>\n",
       "    <tr>\n",
       "      <th>5</th>\n",
       "      <td>Carbon</td>\n",
       "      <td>C</td>\n",
       "      <td>6</td>\n",
       "    </tr>\n",
       "    <tr>\n",
       "      <th>6</th>\n",
       "      <td>Nitrogen</td>\n",
       "      <td>N</td>\n",
       "      <td>7</td>\n",
       "    </tr>\n",
       "    <tr>\n",
       "      <th>7</th>\n",
       "      <td>Oxygen</td>\n",
       "      <td>O</td>\n",
       "      <td>8</td>\n",
       "    </tr>\n",
       "    <tr>\n",
       "      <th>8</th>\n",
       "      <td>Fluorine</td>\n",
       "      <td>F</td>\n",
       "      <td>9</td>\n",
       "    </tr>\n",
       "    <tr>\n",
       "      <th>9</th>\n",
       "      <td>Neon</td>\n",
       "      <td>N</td>\n",
       "      <td>10</td>\n",
       "    </tr>\n",
       "  </tbody>\n",
       "</table>\n",
       "</div>"
      ],
      "text/plain": [
       "        Name Symbol Atomic Number\n",
       "0   Hydrogen      H             1\n",
       "1     Helium     He             2\n",
       "2    Lithium     Li             3\n",
       "3  Beryllium     Be             4\n",
       "4      Boron      B             5\n",
       "5     Carbon      C             6\n",
       "6   Nitrogen      N             7\n",
       "7     Oxygen      O             8\n",
       "8   Fluorine      F             9\n",
       "9       Neon      N            10"
      ]
     },
     "execution_count": 101,
     "metadata": {},
     "output_type": "execute_result"
    }
   ],
   "source": [
    "df_2 = pd.DataFrame({'Name':['Fluorine', 'Neon'],'Symbol':['F', 'N'],'Atomic Number':['9', '10']})\n",
    "df_3 = df_1.append(df_2, ignore_index = True)\n",
    "df_3"
   ]
  },
  {
   "cell_type": "code",
   "execution_count": 102,
   "metadata": {
    "scrolled": false
   },
   "outputs": [
    {
     "data": {
      "text/html": [
       "<div>\n",
       "<style scoped>\n",
       "    .dataframe tbody tr th:only-of-type {\n",
       "        vertical-align: middle;\n",
       "    }\n",
       "\n",
       "    .dataframe tbody tr th {\n",
       "        vertical-align: top;\n",
       "    }\n",
       "\n",
       "    .dataframe thead th {\n",
       "        text-align: right;\n",
       "    }\n",
       "</style>\n",
       "<table border=\"1\" class=\"dataframe\">\n",
       "  <thead>\n",
       "    <tr style=\"text-align: right;\">\n",
       "      <th></th>\n",
       "      <th>Name</th>\n",
       "      <th>Symbol</th>\n",
       "      <th>Atomic Number</th>\n",
       "      <th>Rounded A.Wgt.</th>\n",
       "    </tr>\n",
       "  </thead>\n",
       "  <tbody>\n",
       "    <tr>\n",
       "      <th>0</th>\n",
       "      <td>Hydrogen</td>\n",
       "      <td>H</td>\n",
       "      <td>1</td>\n",
       "      <td>1</td>\n",
       "    </tr>\n",
       "    <tr>\n",
       "      <th>1</th>\n",
       "      <td>Helium</td>\n",
       "      <td>He</td>\n",
       "      <td>2</td>\n",
       "      <td>4</td>\n",
       "    </tr>\n",
       "    <tr>\n",
       "      <th>2</th>\n",
       "      <td>Lithium</td>\n",
       "      <td>Li</td>\n",
       "      <td>3</td>\n",
       "      <td>7</td>\n",
       "    </tr>\n",
       "    <tr>\n",
       "      <th>3</th>\n",
       "      <td>Beryllium</td>\n",
       "      <td>Be</td>\n",
       "      <td>4</td>\n",
       "      <td>9</td>\n",
       "    </tr>\n",
       "    <tr>\n",
       "      <th>4</th>\n",
       "      <td>Boron</td>\n",
       "      <td>B</td>\n",
       "      <td>5</td>\n",
       "      <td>11</td>\n",
       "    </tr>\n",
       "    <tr>\n",
       "      <th>5</th>\n",
       "      <td>Carbon</td>\n",
       "      <td>C</td>\n",
       "      <td>6</td>\n",
       "      <td>12</td>\n",
       "    </tr>\n",
       "    <tr>\n",
       "      <th>6</th>\n",
       "      <td>Nitrogen</td>\n",
       "      <td>N</td>\n",
       "      <td>7</td>\n",
       "      <td>14</td>\n",
       "    </tr>\n",
       "    <tr>\n",
       "      <th>7</th>\n",
       "      <td>Oxygen</td>\n",
       "      <td>O</td>\n",
       "      <td>8</td>\n",
       "      <td>16</td>\n",
       "    </tr>\n",
       "    <tr>\n",
       "      <th>8</th>\n",
       "      <td>Fluorine</td>\n",
       "      <td>F</td>\n",
       "      <td>9</td>\n",
       "      <td>19</td>\n",
       "    </tr>\n",
       "    <tr>\n",
       "      <th>9</th>\n",
       "      <td>Neon</td>\n",
       "      <td>N</td>\n",
       "      <td>10</td>\n",
       "      <td>21</td>\n",
       "    </tr>\n",
       "  </tbody>\n",
       "</table>\n",
       "</div>"
      ],
      "text/plain": [
       "        Name Symbol Atomic Number Rounded A.Wgt.\n",
       "0   Hydrogen      H             1              1\n",
       "1     Helium     He             2              4\n",
       "2    Lithium     Li             3              7\n",
       "3  Beryllium     Be             4              9\n",
       "4      Boron      B             5             11\n",
       "5     Carbon      C             6             12\n",
       "6   Nitrogen      N             7             14\n",
       "7     Oxygen      O             8             16\n",
       "8   Fluorine      F             9             19\n",
       "9       Neon      N            10             21"
      ]
     },
     "execution_count": 102,
     "metadata": {},
     "output_type": "execute_result"
    }
   ],
   "source": [
    "df_3['Rounded A.Wgt.'] = ['1','4','7','9','11','12','14','16','19','21']\n",
    "df_3"
   ]
  },
  {
   "cell_type": "code",
   "execution_count": 134,
   "metadata": {},
   "outputs": [
    {
     "data": {
      "text/plain": [
       "array([ 0.53657228, -0.98174728,  0.81338359, -0.77571466, -0.99690823,\n",
       "        0.2104057 ,  0.92110819,  0.60979653,  0.16313249])"
      ]
     },
     "execution_count": 134,
     "metadata": {},
     "output_type": "execute_result"
    }
   ],
   "source": [
    "# Assignment 1 Part 2\n",
    "\n",
    "greek_ltrs = ['sigma','delta','alpha','gamma','epsilon','mu','lambda','pi','iota']\n",
    "\n",
    "mu, sigma = 10, 1.5\n",
    "array_1 = np.random.normal(mu, sigma, 9)\n",
    "array_2 = np.random.normal(mu, sigma, 9)\n",
    "angle = np.random.normal(0, 2*np.pi, 9)\n",
    "cos_angle = np.cos(angle)"
   ]
  },
  {
   "cell_type": "code",
   "execution_count": 164,
   "metadata": {},
   "outputs": [
    {
     "name": "stdout",
     "output_type": "stream",
     "text": [
      "  greek letters    array_1    array_2      angle  cos_angle\n",
      "0         sigma   9.767461  10.294191   7.287612   0.536572\n",
      "1         delta   8.506019   9.976158  -3.332948  -0.981747\n",
      "2         alpha  11.967436  11.368652  11.945519   0.813384\n",
      "3         gamma   9.862043   9.697103   3.824542  -0.775715\n",
      "4       epsilon  10.062224  12.577300  -3.220248  -0.996908\n",
      "5            mu  10.580260   9.259397  -7.641992   0.210406\n",
      "6        lambda   8.878687   7.501303  -5.883307   0.921108\n",
      "7            pi   9.425378  12.375280  -5.368193   0.609797\n",
      "8          iota  12.170440  10.053009   7.690117   0.163132\n"
     ]
    }
   ],
   "source": [
    "dict_1 = {'greek letters': greek_ltrs,'array_1': array_1,'array_2' : array_2,'angle': angle, 'cos_angle' : cos_angle}\n",
    "\n",
    "df_dict = pd.DataFrame(dict_1, columns = ['greek letters', 'array_1','array_2','angle','cos_angle'])\n",
    "print(df_dict)\n"
   ]
  },
  {
   "cell_type": "code",
   "execution_count": 169,
   "metadata": {},
   "outputs": [
    {
     "data": {
      "text/html": [
       "<div>\n",
       "<style scoped>\n",
       "    .dataframe tbody tr th:only-of-type {\n",
       "        vertical-align: middle;\n",
       "    }\n",
       "\n",
       "    .dataframe tbody tr th {\n",
       "        vertical-align: top;\n",
       "    }\n",
       "\n",
       "    .dataframe thead th {\n",
       "        text-align: right;\n",
       "    }\n",
       "</style>\n",
       "<table border=\"1\" class=\"dataframe\">\n",
       "  <thead>\n",
       "    <tr style=\"text-align: right;\">\n",
       "      <th></th>\n",
       "      <th>greek letters</th>\n",
       "      <th>array_1</th>\n",
       "      <th>array_2</th>\n",
       "      <th>angle</th>\n",
       "      <th>cos_angle</th>\n",
       "    </tr>\n",
       "  </thead>\n",
       "  <tbody>\n",
       "    <tr>\n",
       "      <th>2</th>\n",
       "      <td>alpha</td>\n",
       "      <td>11.967436</td>\n",
       "      <td>11.368652</td>\n",
       "      <td>11.945519</td>\n",
       "      <td>0.813384</td>\n",
       "    </tr>\n",
       "    <tr>\n",
       "      <th>1</th>\n",
       "      <td>delta</td>\n",
       "      <td>8.506019</td>\n",
       "      <td>9.976158</td>\n",
       "      <td>-3.332948</td>\n",
       "      <td>-0.981747</td>\n",
       "    </tr>\n",
       "    <tr>\n",
       "      <th>4</th>\n",
       "      <td>epsilon</td>\n",
       "      <td>10.062224</td>\n",
       "      <td>12.577300</td>\n",
       "      <td>-3.220248</td>\n",
       "      <td>-0.996908</td>\n",
       "    </tr>\n",
       "    <tr>\n",
       "      <th>3</th>\n",
       "      <td>gamma</td>\n",
       "      <td>9.862043</td>\n",
       "      <td>9.697103</td>\n",
       "      <td>3.824542</td>\n",
       "      <td>-0.775715</td>\n",
       "    </tr>\n",
       "    <tr>\n",
       "      <th>8</th>\n",
       "      <td>iota</td>\n",
       "      <td>12.170440</td>\n",
       "      <td>10.053009</td>\n",
       "      <td>7.690117</td>\n",
       "      <td>0.163132</td>\n",
       "    </tr>\n",
       "    <tr>\n",
       "      <th>6</th>\n",
       "      <td>lambda</td>\n",
       "      <td>8.878687</td>\n",
       "      <td>7.501303</td>\n",
       "      <td>-5.883307</td>\n",
       "      <td>0.921108</td>\n",
       "    </tr>\n",
       "    <tr>\n",
       "      <th>5</th>\n",
       "      <td>mu</td>\n",
       "      <td>10.580260</td>\n",
       "      <td>9.259397</td>\n",
       "      <td>-7.641992</td>\n",
       "      <td>0.210406</td>\n",
       "    </tr>\n",
       "    <tr>\n",
       "      <th>7</th>\n",
       "      <td>pi</td>\n",
       "      <td>9.425378</td>\n",
       "      <td>12.375280</td>\n",
       "      <td>-5.368193</td>\n",
       "      <td>0.609797</td>\n",
       "    </tr>\n",
       "    <tr>\n",
       "      <th>0</th>\n",
       "      <td>sigma</td>\n",
       "      <td>9.767461</td>\n",
       "      <td>10.294191</td>\n",
       "      <td>7.287612</td>\n",
       "      <td>0.536572</td>\n",
       "    </tr>\n",
       "  </tbody>\n",
       "</table>\n",
       "</div>"
      ],
      "text/plain": [
       "  greek letters    array_1    array_2      angle  cos_angle\n",
       "2         alpha  11.967436  11.368652  11.945519   0.813384\n",
       "1         delta   8.506019   9.976158  -3.332948  -0.981747\n",
       "4       epsilon  10.062224  12.577300  -3.220248  -0.996908\n",
       "3         gamma   9.862043   9.697103   3.824542  -0.775715\n",
       "8          iota  12.170440  10.053009   7.690117   0.163132\n",
       "6        lambda   8.878687   7.501303  -5.883307   0.921108\n",
       "5            mu  10.580260   9.259397  -7.641992   0.210406\n",
       "7            pi   9.425378  12.375280  -5.368193   0.609797\n",
       "0         sigma   9.767461  10.294191   7.287612   0.536572"
      ]
     },
     "execution_count": 169,
     "metadata": {},
     "output_type": "execute_result"
    }
   ],
   "source": [
    "sorted_df = df_dict.sort_values(by='greek letters', ascending=True)\n",
    "sorted_df"
   ]
  },
  {
   "cell_type": "code",
   "execution_count": 181,
   "metadata": {},
   "outputs": [
    {
     "name": "stdout",
     "output_type": "stream",
     "text": [
      "  greek letters    array_2     angle\n",
      "1         delta   9.976158 -3.332948\n",
      "4       epsilon  12.577300 -3.220248\n",
      "3         gamma   9.697103  3.824542\n",
      "8          iota  10.053009  7.690117\n",
      "6        lambda   7.501303 -5.883307\n",
      "5            mu   9.259397 -7.641992\n",
      "7            pi  12.375280 -5.368193\n",
      "0         sigma  10.294191  7.287612\n"
     ]
    }
   ],
   "source": [
    "drop_col_df = sorted_df.drop([\"array_1\", \"cos_angle\"], axis=1)\n",
    "drop_row_df = drop_col_df.iloc[1:,]\n",
    "print(drop_row_df)"
   ]
  },
  {
   "cell_type": "code",
   "execution_count": null,
   "metadata": {},
   "outputs": [],
   "source": [
    "####   Assigment 1 Part 3\n",
    "f_seq = []\n",
    "f_1 = 0\n",
    "f_2 = 1\n",
    "count = 0\n",
    "\n",
    "while count < 12:\n",
    "       print(f_1, end ='  ')\n",
    "       next = f_1 + f_2\n",
    "       f_1 = f_2\n",
    "       f_2 = next\n",
    "       count += 1\n",
    "       f_seq.append(f_2/f_1)\n"
   ]
  },
  {
   "cell_type": "code",
   "execution_count": 206,
   "metadata": {
    "scrolled": true
   },
   "outputs": [
    {
     "name": "stdout",
     "output_type": "stream",
     "text": [
      "[1.619047619047619, 1.6176470588235294, 1.6181818181818182, 1.6179775280898876, 1.6180555555555556]\n"
     ]
    }
   ],
   "source": [
    "print(f_seq[7:])\n",
    "        \n",
    "# In this latter list the numbers are converging into one number; approximately 1.6. "
   ]
  },
  {
   "cell_type": "code",
   "execution_count": 7,
   "metadata": {},
   "outputs": [
    {
     "name": "stdout",
     "output_type": "stream",
     "text": [
      "Enter Temp in Kelvin: 89\n",
      "Temp in Rankine : 160.20000000000002\n"
     ]
    }
   ],
   "source": [
    "##### Assignment 1 Part 4\n",
    "\n",
    "def convert_K(K):\n",
    "    R = K*1.8\n",
    "    return R\n",
    "\n",
    "K = int(input(\"Enter Temp in Kelvin: \"))\n",
    "R = convert_K(K) \n",
    "print(\"Temp in Rankine :\", R)\n"
   ]
  },
  {
   "cell_type": "code",
   "execution_count": 22,
   "metadata": {},
   "outputs": [
    {
     "name": "stdout",
     "output_type": "stream",
     "text": [
      "36.0\n",
      "720.0\n",
      "1296.0\n",
      "9540.0\n",
      "25.2\n"
     ]
    }
   ],
   "source": [
    "k_list = [20, 400, 720, 5300, 14]\n",
    "for k in k_list:\n",
    "    new_k = convert_K(k)\n",
    "    print(new_k)"
   ]
  },
  {
   "cell_type": "code",
   "execution_count": 9,
   "metadata": {},
   "outputs": [
    {
     "name": "stdout",
     "output_type": "stream",
     "text": [
      "Enter Temp in Kelvin:89\n",
      "Temp in Rankine : 160.20000000000002\n"
     ]
    }
   ],
   "source": [
    "convert_k_lambda = lambda K: K*1.8\n",
    " \n",
    "K_2 = int(input(\"Enter Temp in Kelvin:\"))\n",
    "R_2 = convert_k_lambda(K_2)\n",
    "\n",
    "print(\"Temp in Rankine :\", R_2)"
   ]
  },
  {
   "cell_type": "code",
   "execution_count": 23,
   "metadata": {},
   "outputs": [
    {
     "name": "stdout",
     "output_type": "stream",
     "text": [
      "36.0\n",
      "720.0\n",
      "1296.0\n",
      "9540.0\n",
      "25.2\n"
     ]
    }
   ],
   "source": [
    "k_list = [20, 400, 720, 5300, 14]\n",
    "for k in k_list:\n",
    "    new_k2 = convert_k_lambda(k)\n",
    "    print(new_k2)"
   ]
  }
 ],
 "metadata": {
  "kernelspec": {
   "display_name": "Python 3",
   "language": "python",
   "name": "python3"
  },
  "language_info": {
   "codemirror_mode": {
    "name": "ipython",
    "version": 3
   },
   "file_extension": ".py",
   "mimetype": "text/x-python",
   "name": "python",
   "nbconvert_exporter": "python",
   "pygments_lexer": "ipython3",
   "version": "3.7.1"
  }
 },
 "nbformat": 4,
 "nbformat_minor": 2
}
