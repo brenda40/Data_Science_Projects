{
 "cells": [
  {
   "cell_type": "code",
   "execution_count": 141,
   "metadata": {},
   "outputs": [],
   "source": [
    "# Brenda Woodard\n",
    "# DST II Assignment 3\n",
    "\n",
    "# Goal: Give you the opportunity to get acquainted with the modeling in scikit-learn using decision trees. \n",
    "import numpy as np\n",
    "import pandas as pd\n",
    "import sklearn\n",
    "import matplotlib.pyplot as plt\n",
    "import seaborn\n",
    "from sklearn.tree import DecisionTreeClassifier\n",
    "from sklearn.preprocessing import MinMaxScaler\n",
    "from sklearn import tree\n",
    "from sklearn import metrics\n",
    "# from sklearn.metrics import plot_roc_curve\n",
    "# from sklearn.metrics import plot_confusion_matrix\n",
    "from sklearn.metrics import accuracy_score, r2_score, plot_roc_curve, plot_confusion_matrix\n",
    "from sklearn.linear_model import LinearRegression\n",
    "from sklearn.neighbors import KNeighborsClassifier\n",
    "from sklearn.model_selection import(train_test_split, GridSearchCV, cross_val_score, cross_val_predict, validation_curve) "
   ]
  },
  {
   "cell_type": "code",
   "execution_count": 124,
   "metadata": {},
   "outputs": [
    {
     "name": "stdout",
     "output_type": "stream",
     "text": [
      "Age              0\n",
      "HomeOwner        0\n",
      "Female           0\n",
      "Married          0\n",
      "HouseholdSize    0\n",
      "Income           0\n",
      "Education        0\n",
      "Church           0\n",
      "Undecided        0\n",
      "dtype: int64\n",
      "   Age  HomeOwner  Female  Married  HouseholdSize  Income  Education  Church  \\\n",
      "0   51          1       1        1              4   171.0         15       0   \n",
      "1   46          1       1        1              6   420.0         15       1   \n",
      "2   55          1       0        1              6   132.0         16       0   \n",
      "3   50          1       0        1              4    18.0          8       0   \n",
      "4   49          1       1        1              2    66.0         15       1   \n",
      "\n",
      "   Undecided  \n",
      "0          1  \n",
      "1          0  \n",
      "2          1  \n",
      "3          0  \n",
      "4          1  \n",
      "                  0            1             2            3             4  \\\n",
      "count  10000.000000  10000.00000  10000.000000  10000.00000  10000.000000   \n",
      "mean       0.466513      0.84170      0.787500      0.74790      0.390033   \n",
      "std        0.176285      0.36504      0.409097      0.43424      0.260625   \n",
      "min        0.000000      0.00000      0.000000      0.00000      0.000000   \n",
      "25%        0.333333      1.00000      1.000000      0.00000      0.166667   \n",
      "50%        0.460317      1.00000      1.000000      1.00000      0.333333   \n",
      "75%        0.587302      1.00000      1.000000      1.00000      0.500000   \n",
      "max        1.000000      1.00000      1.000000      1.00000      1.000000   \n",
      "\n",
      "                  5             6             7  \n",
      "count  10000.000000  10000.000000  10000.000000  \n",
      "mean       0.177740      0.590267      0.502000  \n",
      "std        0.135764      0.353185      0.500021  \n",
      "min        0.000000      0.000000      0.000000  \n",
      "25%        0.088073      0.333333      0.000000  \n",
      "50%        0.154128      0.583333      1.000000  \n",
      "75%        0.236697      0.833333      1.000000  \n",
      "max        1.000000      1.000000      1.000000  \n",
      "          0    1    2    3         4         5         6    7\n",
      "0  0.523810  1.0  1.0  1.0  0.500000  0.306422  0.583333  0.0\n",
      "1  0.444444  1.0  1.0  1.0  0.833333  0.763303  0.583333  1.0\n",
      "2  0.587302  1.0  0.0  1.0  0.833333  0.234862  0.666667  0.0\n",
      "3  0.507937  1.0  0.0  1.0  0.500000  0.025688  0.000000  0.0\n",
      "4  0.492063  1.0  1.0  1.0  0.166667  0.113761  0.583333  1.0\n"
     ]
    }
   ],
   "source": [
    "# Question 1\n",
    "\n",
    "# For the current presidential election, campaign organizers for both the Republican & Democrat parties are interested in\n",
    "# identifying undecided voters who would consider voting for their party. The file BlueOrRed.csv contains data on a sample\n",
    "# of voters with tracked variables including: \n",
    "#     whether or not they are undecided regarding their candidate preference\n",
    "#     age \n",
    "#     whether they own a home\n",
    "#     gender\n",
    "#     marital status\n",
    "#     household size\n",
    "#     income \n",
    "#     years of education\n",
    "#     whether they attend church \n",
    "\n",
    "# For this dataset, you would use the Undecided variable as your output variable & the rest of the variables as your input\n",
    "# variables. You want to predict whether a candidate is undecided(1) or decided(0).  \n",
    "\n",
    "# Read in the data \n",
    "dataSet = pd.read_csv('BlueOrRed.csv')\n",
    "BvR = pd.DataFrame(dataSet)\n",
    "\n",
    "# Check for missing data\n",
    "print(BvR.isnull().sum())\n",
    "\n",
    "# Show the first 5 rows of DataFrame\n",
    "print(BvR.head(5))\n",
    "\n",
    "# Normalize the continuous variables using min-max normalization\n",
    "data = BvR.values[:, :-1]\n",
    "# Robust scaler transform of the dataset\n",
    "transform = MinMaxScaler()\n",
    "data = transform.fit_transform(data)\n",
    "# Convert array back to a dataframe\n",
    "BvRDat = pd.DataFrame(data)\n",
    "\n",
    "# Show the normalization & the first 5 rows of your new dataset. \n",
    "print(BvRDat.describe())\n",
    "print(BvRDat.head(5))"
   ]
  },
  {
   "cell_type": "markdown",
   "metadata": {},
   "source": [
    "Q: Why do you think using min-max normalization is a better choice for this situation compared to using other scalers\n",
    "such as the Standard Scaler which standardizes the data?\n",
    "\n",
    "A:Our data has varying scales and we are not making assumptions about the distribution of fhe data so we will use Normalization. Since we don't know if the data is uniformly distributed we wouldn't want to use Standarization."
   ]
  },
  {
   "cell_type": "code",
   "execution_count": 128,
   "metadata": {},
   "outputs": [
    {
     "name": "stdout",
     "output_type": "stream",
     "text": [
      "(10000, 7) (10000,)\n",
      "(7000, 7)\n",
      "(7000,)\n",
      "(3000, 7)\n",
      "(3000,)\n",
      "[0. 1. 0. 1. 1. 0. 1. 1. 1. 0. 0. 1. 0. 0. 0. 0. 1. 1. 0. 1. 0. 1. 1. 0.\n",
      " 0. 0. 1. 0. 1. 1. 1. 1. 1. 0. 0. 0. 1. 0. 1. 0. 0. 1. 1. 0. 0. 1. 1. 0.\n",
      " 1. 0. 0. 0. 0. 1. 1. 0. 1. 1. 0. 1. 1. 0. 1. 0. 1. 0. 0. 1. 1. 0. 1. 1.\n",
      " 1. 1. 0. 1. 0. 0. 1. 1. 1. 0. 1. 1. 1. 0. 1. 1. 0. 1. 0. 0. 0. 1. 0. 1.\n",
      " 0. 0. 1. 0.]\n",
      "[0. 0. 1. 1. 1. 1. 0. 1. 1. 1. 1. 1. 1. 0. 0. 0. 1. 0. 0. 1. 0. 1. 1. 1.\n",
      " 1. 1. 0. 0. 0. 0. 1. 1. 1. 0. 1. 0. 1. 1. 1. 0. 0. 1. 1. 1. 1. 1. 0. 0.\n",
      " 0. 1. 0. 0. 1. 1. 0. 1. 1. 1. 0. 1. 0. 1. 0. 0. 1. 1. 1. 0. 0. 0. 1. 0.\n",
      " 0. 1. 1. 1. 1. 0. 1. 0. 1. 0. 1. 1. 0. 1. 1. 1. 0. 1. 1. 1. 0. 0. 1. 1.\n",
      " 1. 0. 1. 0.]\n",
      "Accuracy: 0.5133333333333333\n",
      "Accuracy: 0.9965714285714286\n"
     ]
    }
   ],
   "source": [
    "# Split the data into training & test sets. Test set should be 30% of the entire data. \n",
    "data = BvRDat.values\n",
    "# split data into inputs & outputs\n",
    "X, y = data[:, :-1], data[:, -1]\n",
    "print(X.shape, y.shape)\n",
    "\n",
    "X_train, X_test, y_train, y_test = train_test_split(X, y, test_size = 0.3, random_state = 42)\n",
    "# Print the shape of the split data sets \n",
    "print(X_train.shape) \n",
    "print(y_train.shape)\n",
    "print(X_test.shape)\n",
    "print(y_test.shape)\n",
    "\n",
    "# Construct a decision tree & fit the tree into the data. \n",
    "clf = tree.DecisionTreeClassifier()\n",
    "clf2 = clf.fit(X_train,y_train)\n",
    "\n",
    "# Use your decision tree model to make predictions on the training set as well as on the test set. \n",
    "y_test_pred = clf2.predict(X_test)\n",
    "y_train_pred = clf2.predict(X_train)\n",
    "\n",
    "# Print out the first 100 predictions for each of the y_train_pred & y_test_pred. \n",
    "print(y_train_pred[0:100])\n",
    "print(y_test_pred[0:100])\n",
    "# Find the overall accuracy of the tree model on the training set & on the test set. \n",
    "print(\"Accuracy:\", metrics.accuracy_score(y_test, y_test_pred))\n",
    "print(\"Accuracy:\", metrics.accuracy_score(y_train, y_train_pred))"
   ]
  },
  {
   "cell_type": "markdown",
   "metadata": {},
   "source": [
    "Q: Does the tree overfit the model? Why or why not? Provide a brief explanation. \n",
    "\n",
    "A: The model is overfitting because it is performing much better on the training set than the test set. "
   ]
  },
  {
   "cell_type": "code",
   "execution_count": 129,
   "metadata": {},
   "outputs": [
    {
     "name": "stdout",
     "output_type": "stream",
     "text": [
      "Accuracy of Training Data: 0.9965714285714286\n",
      "Accuracy of Testing Data: 0.5133333333333333\n",
      "Prediction Error: 0.0034285714285714475\n"
     ]
    }
   ],
   "source": [
    "# Use the .score() method of the tree estimator to find the overall accuracy on the training set & test set. \n",
    "s1 = clf2.score(X_train, y_train)\n",
    "s2 = clf2.score(X_test, y_test)\n",
    "print(\"Accuracy of Training Data:\", s1)\n",
    "print(\"Accuracy of Testing Data:\", s2)\n",
    "\n",
    "# Use the zero_one_loss() to compute the overall prediction error of the tree model on the test set & training set. \n",
    "z = metrics.zero_one_loss(y_train, y_train_pred)\n",
    "print(\"Prediction Error:\", z)"
   ]
  },
  {
   "cell_type": "code",
   "execution_count": 130,
   "metadata": {},
   "outputs": [
    {
     "name": "stdout",
     "output_type": "stream",
     "text": [
      "Classification Report:               precision    recall  f1-score   support\n",
      "\n",
      "         0.0       0.99      1.00      1.00      3492\n",
      "         1.0       1.00      0.99      1.00      3508\n",
      "\n",
      "    accuracy                           1.00      7000\n",
      "   macro avg       1.00      1.00      1.00      7000\n",
      "weighted avg       1.00      1.00      1.00      7000\n",
      "\n",
      "Confusion Matrix: [[3491    1]\n",
      " [  23 3485]]\n",
      "Precision Score: 0.9997131382673551\n",
      "Recall Score: 0.9934435575826682\n",
      "F1 Score: 0.996568487274807\n"
     ]
    }
   ],
   "source": [
    "# Question 2\n",
    "# Do other assessment of your model using the following tools in sklearn.metrics module\n",
    "\n",
    "# Generate the classification report using the classification_report() \n",
    "CR = metrics.classification_report(y_train, y_train_pred)\n",
    "print(\"Classification Report:\", CR)\n",
    "\n",
    "# Generate the confusion matrix using confusion_matrix() \n",
    "CM = metrics.confusion_matrix(y_train, y_train_pred)\n",
    "print(\"Confusion Matrix:\", CM)\n",
    "\n",
    "# Generate the precision score using precision_score() \n",
    "PS = metrics.precision_score(y_train, y_train_pred)\n",
    "print(\"Precision Score:\", PS)\n",
    "\n",
    "# Generate the recall score using recall_score()\n",
    "RS = metrics.recall_score(y_train, y_train_pred)\n",
    "print(\"Recall Score:\", RS)\n",
    "\n",
    "# Generate the f1 score using f1_score()\n",
    "F1 = metrics.f1_score(y_train, y_train_pred)\n",
    "print(\"F1 Score:\", F1)"
   ]
  },
  {
   "cell_type": "markdown",
   "metadata": {},
   "source": [
    "Q: When is it more appropriate to use f1 score (or precision score & recall) compared to using the overall accuracy to evaluate your model?\n",
    "\n",
    "A: If you are most interested in how many are actual positive out of those predicted positive, f1 score may be a better measure especially if you are seeking a balance between Precision and Recall and you have a large number of actual negatives."
   ]
  },
  {
   "cell_type": "code",
   "execution_count": 131,
   "metadata": {},
   "outputs": [
    {
     "data": {
      "text/plain": [
       "<sklearn.metrics._plot.confusion_matrix.ConfusionMatrixDisplay at 0x28f528c30c8>"
      ]
     },
     "execution_count": 131,
     "metadata": {},
     "output_type": "execute_result"
    },
    {
     "data": {
      "image/png": "[encoded data removed]",
      "text/plain": [
       "<Figure size 432x288 with 1 Axes>"
      ]
     },
     "metadata": {
      "needs_background": "light"
     },
     "output_type": "display_data"
    },
    {
     "data": {
      "image/png": "[encoded data removed]",
      "text/plain": [
       "<Figure size 432x288 with 2 Axes>"
      ]
     },
     "metadata": {
      "needs_background": "light"
     },
     "output_type": "display_data"
    }
   ],
   "source": [
    "# Generate a roc curve using plot_roc_curve() \n",
    "plot_roc_curve(clf2, X_test, y_test)\n",
    "\n",
    "# Plot the confusion matrix using plot_confusion_matrix\n",
    "plot_confusion_matrix(clf2, X_test, y_test)"
   ]
  },
  {
   "cell_type": "code",
   "execution_count": 140,
   "metadata": {},
   "outputs": [
    {
     "name": "stdout",
     "output_type": "stream",
     "text": [
      "{'ccp_alpha': 0.0, 'class_weight': None, 'criterion': 'gini', 'max_depth': None, 'max_features': None, 'max_leaf_nodes': None, 'min_impurity_decrease': 0.0, 'min_impurity_split': None, 'min_samples_leaf': 1, 'min_samples_split': 2, 'min_weight_fraction_leaf': 0.0, 'presort': 'deprecated', 'random_state': None, 'splitter': 'best'}\n",
      "0.5048571428571429\n",
      "[1. 0. 1. 1. 0. 1. 0. 1. 1. 0. 0. 1. 0. 0. 1. 0. 0. 0. 0. 0. 0. 1. 1. 1.\n",
      " 0. 1. 0. 0. 0. 1. 1. 0. 0. 0. 0. 0. 0. 1. 1. 1. 0. 0. 1. 1. 0. 1. 1. 1.\n",
      " 0. 0. 0. 1. 1. 0. 0. 0. 1. 1. 1. 0. 1. 0. 0. 0. 0. 1. 0. 0. 1. 1. 0. 0.\n",
      " 0. 0. 1. 0. 0. 0. 0. 0. 0. 1. 0. 1. 0. 0. 1. 1. 1. 1. 0. 0. 0. 0. 1. 0.\n",
      " 0. 1. 1. 0.]\n",
      "17\n"
     ]
    },
    {
     "data": {
      "text/plain": [
       "[<matplotlib.lines.Line2D at 0x28f53e88f08>]"
      ]
     },
     "execution_count": 140,
     "metadata": {},
     "output_type": "execute_result"
    },
    {
     "data": {
      "image/png": "[encoded data removed]",
      "text/plain": [
       "<Figure size 432x288 with 1 Axes>"
      ]
     },
     "metadata": {
      "needs_background": "light"
     },
     "output_type": "display_data"
    }
   ],
   "source": [
    "# Question 3\n",
    "\n",
    "# You will now use cross validation to find better accuracy scores as well as to tune your hyperparameters. We are more \n",
    "# interested in optimizing the depth of the tree (max_depth). First retrieve the maximum depth of this decision tree. \n",
    "print(clf2.get_params())\n",
    "\n",
    "# Find the optimal depth of the tree by tuning the max_depth hyperparameter. \n",
    "# Write a for loop to iteratively compute the overall error rate of the model on the test set for the possible values\n",
    "# of the maximum depth of the tree only. \n",
    "\n",
    "# Initialize a variable outside the loop to track the error rates for each maximum depth value\n",
    "test_errors = []\n",
    "# Use clf.tree_.max_depth where clf is the name of your estimator & tree is the module in sklearn\n",
    "for i in range(1, clf2.tree_.max_depth):\n",
    "    tree_clf = tree.DecisionTreeClassifier(max_depth = i)\n",
    "    clf3 = tree_clf.fit(X_train, y_train)\n",
    "    scores = cross_val_score(estimator= clf3, X= X_train, y= y_train, scoring= \"accuracy\", cv= 8)\n",
    "    test_errors.append(1-np.mean(scores))\n",
    "\n",
    "print(np.mean(scores))\n",
    "print(cross_val_predict(clf3, X_train, y_train, cv=8)[0:100])\n",
    "\n",
    "k = range(1, 51)\n",
    "# Use np.argmin() on the error rates to retrieve the optimal maximum depth of the tree with the least error rate.\n",
    "k_best1 = k[np.argmin(test_errors)]\n",
    "print(k_best1)\n",
    "\n",
    "# Plot the overall error rate on the y-axis & the maximum depth of the tree on the x-axis. \n",
    "plt.title(\"Test Error vs k\")\n",
    "plt.xlabel(\"k\")\n",
    "plt.ylabel(\"error rate\")\n",
    "plt.plot(test_errors, color=\"#008ABC\", lw=3)"
   ]
  },
  {
   "cell_type": "markdown",
   "metadata": {},
   "source": [
    "Q: Does this value match with what you see on your plot? \n",
    "\n",
    "A: No"
   ]
  },
  {
   "cell_type": "code",
   "execution_count": 136,
   "metadata": {},
   "outputs": [
    {
     "name": "stdout",
     "output_type": "stream",
     "text": [
      "{'max_depth': 27, 'max_features': 0.4}\n",
      "Accuracy on training set:  0.9165714285714286\n",
      "Accuracy on test set:  0.5106666666666667\n"
     ]
    },
    {
     "data": {
      "text/plain": [
       "array([1., 1., 0., ..., 0., 0., 0.])"
      ]
     },
     "execution_count": 136,
     "metadata": {},
     "output_type": "execute_result"
    }
   ],
   "source": [
    "# Find the optimal maximum depth of the decision tree model using grid search cross validation. Simultaneously optimize \n",
    "# the max_features hyperparameter. You can check the documentation to see what these hyperparameters represent. \n",
    "param_grid = {'max_depth':range(1, clf3.max_depth), 'max_features': [0.2, 0.4, 0.6, 0.8]}\n",
    "\n",
    "# Use the GridSearchCV() constructor; make sure to pass estimator & param_grid into the GridSearchCV() constructor. \n",
    "grid = GridSearchCV(estimator = clf3, param_grid = param_grid, scoring = None, cv = 8) # Set the parameter cv = 8\n",
    "grid.fit(X_train, y_train)\n",
    "print(grid.best_params_)\n",
    "print(\"Accuracy on training set: \", grid.score(X_train, y_train))\n",
    "print(\"Accuracy on test set: \", grid.score(X_test, y_test))\n",
    "\n",
    "grid.predict(X_test)"
   ]
  },
  {
   "cell_type": "markdown",
   "metadata": {},
   "source": [
    "Q: Do you have the same optimal maximum depth as you got in the question above? \n",
    "\n",
    "A: No"
   ]
  },
  {
   "cell_type": "code",
   "execution_count": 139,
   "metadata": {},
   "outputs": [
    {
     "name": "stdout",
     "output_type": "stream",
     "text": [
      "30\n"
     ]
    },
    {
     "data": {
      "image/png": "[encoded data removed]",
      "text/plain": [
       "<Figure size 432x288 with 1 Axes>"
      ]
     },
     "metadata": {
      "needs_background": "light"
     },
     "output_type": "display_data"
    }
   ],
   "source": [
    "# Tune the maximum depth hyperparameter again using cross validation but this time, use the cross_val_score() \n",
    "# Use this cross_val_score() function in combination with a for loop to find the optimal maximum depth of the tree. \n",
    "test_error2 = []\n",
    "for i in range(1, clf3.max_depth):\n",
    "    clf4 = tree.DecisionTreeClassifier(max_depth = i)\n",
    "    clf5 = clf4.fit(X_train, y_train)\n",
    "    scores2 = cross_val_score(estimator = clf5, X = X_train, y = y_train, scoring = 'accuracy', cv = 8)\n",
    "    test_error2.append(1-np.mean(scores2))\n",
    "    \n",
    "# Track the error rate for each depth & plot the error rates versus the corresponding maximum depths of the tree.\n",
    "plt.title(\"Test Error vs k\")\n",
    "plt.xlabel(\"k\")\n",
    "plt.ylabel(\"error rate\")\n",
    "plt.plot(test_error2, color=\"#008ABC\", lw=3);\n",
    "\n",
    "\n",
    "# Use the np.argmin() on the error rates to retrieve the optimal maximum depth, corresponding to the lowest error rate. \n",
    "k = range(1, 51)\n",
    "k_best2 =k [np.argmin(test_error2)]\n",
    "print(k_best2)"
   ]
  },
  {
   "cell_type": "markdown",
   "metadata": {},
   "source": [
    "Q: Does the retrieved optimal maximum depth look like what you see on your plot? \n",
    "\n",
    "A: No"
   ]
  },
  {
   "cell_type": "code",
   "execution_count": 138,
   "metadata": {},
   "outputs": [
    {
     "data": {
      "image/png": "[encoded data removed]",
      "text/plain": [
       "<Figure size 432x288 with 1 Axes>"
      ]
     },
     "metadata": {
      "needs_background": "light"
     },
     "output_type": "display_data"
    }
   ],
   "source": [
    "# Use another approach to plot the error rates versus the maximum depth of the tree.\n",
    "knn = KNeighborsClassifier()\n",
    "\n",
    "# The validation_curve() function implements cross validation & returns the training accuracy scores & test (validation) \n",
    "# accuracy scores for each iteration in the k-fold cross validation, for each of the hyperparameter values. \n",
    "train_acc, test_acc = validation_curve(knn, X_train, y_train, param_name= \"n_neighbors\", param_range= range(1, 51), cv= 8)\n",
    "\n",
    "# You will need to aggregate the scores using np.mean(axis=1) to get the average of the accuracy scores for all iterations, \n",
    "# for each hyperparameter value. Use these average accuracy scores to obtain corresponding error rates for the training & \n",
    "# test (validation) sets. \n",
    "train_acc_average = np.mean(train_acc, axis = 1)\n",
    "test_acc_average = np.mean(test_acc, axis = 1)\n",
    "\n",
    "# Plot the error rates on the training set versus the maximum depth values. Plot on the same figure, the error rates of \n",
    "# the test (or validation) set versus the maximum depth values. \n",
    "plt.title(\"Error Rate vs Max Depth Values\")\n",
    "plt.xlabel(\"Max Depth Values\")\n",
    "plt.ylabel(\"Error Rate\")\n",
    "plt.plot(1-train_acc_average, color = \"red\", lw = 3)\n",
    "plt.plot(1-test_acc_average, color = \"green\", lw = 3)\n",
    "plt.show()"
   ]
  },
  {
   "cell_type": "markdown",
   "metadata": {},
   "source": [
    "Q: What is the optimal maximum depth?\n",
    "\n",
    "A: 27"
   ]
  }
 ],
 "metadata": {
  "kernelspec": {
   "display_name": "Python 3",
   "language": "python",
   "name": "python3"
  },
  "language_info": {
   "codemirror_mode": {
    "name": "ipython",
    "version": 3
   },
   "file_extension": ".py",
   "mimetype": "text/x-python",
   "name": "python",
   "nbconvert_exporter": "python",
   "pygments_lexer": "ipython3",
   "version": "3.7.6"
  }
 },
 "nbformat": 4,
 "nbformat_minor": 4
}
