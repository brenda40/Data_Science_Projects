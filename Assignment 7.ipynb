{
 "cells": [
  {
   "cell_type": "code",
   "execution_count": 138,
   "metadata": {},
   "outputs": [],
   "source": [
    "# Brenda Woodard\n",
    "# Data Science Tools II\n",
    "# Assignment 7\n",
    "\n",
    "# Goal: give you the opportunity to implement clustering & logistic regression using your own data\n",
    "import numpy as np\n",
    "import pandas as pd\n",
    "import sklearn\n",
    "import statsmodels.formula.api as sm\n",
    "import matplotlib.pyplot as plt\n",
    "import seaborn as sns\n",
    "from sklearn import preprocessing as pre \n",
    "from sklearn import cluster \n",
    "from sklearn import metrics\n",
    "from sklearn.decomposition import PCA \n",
    "from sklearn.model_selection import GridSearchCV\n",
    "from scipy.cluster.hierarchy import dendrogram\n",
    "from sklearn.model_selection import train_test_split\n",
    "from sklearn.preprocessing import (OneHotEncoder, LabelEncoder, LabelBinarizer, Binarizer, StandardScaler, \n",
    "                                   RobustScaler, MinMaxScaler, MaxAbsScaler)\n",
    "from sklearn.linear_model import LogisticRegression\n",
    "from sklearn.metrics import confusion_matrix, classification_report "
   ]
  },
  {
   "cell_type": "code",
   "execution_count": 110,
   "metadata": {},
   "outputs": [
    {
     "name": "stdout",
     "output_type": "stream",
     "text": [
      "   Age_0-9  Age_10-19  Age_20-24  Age_25-59  Age_60+  Severity_Mild  \\\n",
      "0        1          0          0          0        0              1   \n",
      "1        1          0          0          0        0              1   \n",
      "2        1          0          0          0        0              1   \n",
      "3        1          0          0          0        0              0   \n",
      "4        1          0          0          0        0              0   \n",
      "\n",
      "   Severity_Moderate  Severity_None  Severity_Severe  Gender_Female  \n",
      "0                  0              0                0              0  \n",
      "1                  0              0                0              0  \n",
      "2                  0              0                0              0  \n",
      "3                  1              0                0              0  \n",
      "4                  1              0                0              0  \n",
      "     Age_0-9  Age_10-19  Age_20-24  Age_25-59  Age_60+  Severity_Mild  \\\n",
      "0          1          0          0          0        0              1   \n",
      "1          1          0          0          0        0              1   \n",
      "2          1          0          0          0        0              1   \n",
      "3          1          0          0          0        0              0   \n",
      "4          1          0          0          0        0              0   \n",
      "..       ...        ...        ...        ...      ...            ...   \n",
      "495        1          0          0          0        0              0   \n",
      "496        1          0          0          0        0              0   \n",
      "497        1          0          0          0        0              0   \n",
      "498        1          0          0          0        0              0   \n",
      "499        1          0          0          0        0              0   \n",
      "\n",
      "     Severity_Moderate  Severity_None  Severity_Severe  \n",
      "0                    0              0                0  \n",
      "1                    0              0                0  \n",
      "2                    0              0                0  \n",
      "3                    1              0                0  \n",
      "4                    1              0                0  \n",
      "..                 ...            ...              ...  \n",
      "495                  1              0                0  \n",
      "496                  1              0                0  \n",
      "497                  1              0                0  \n",
      "498                  0              0                1  \n",
      "499                  0              0                1  \n",
      "\n",
      "[500 rows x 9 columns]\n",
      "[0 0 0 0 0 0 1 1 1 0 0 0 0 0 0 0 0 0 1 1 1 0 0 0 0 0 0 0 0 0 1 1 1 0 0 0 0\n",
      " 0 0 0 0 0 1 1 1 0 0 0 0 0 0 0 0 0 1 1 1 0 0 0 0 0 0 0 0 0 1 1 1 0 0 0 0 0\n",
      " 0 0 0 0 1 1 1 0 0 0 0 0 0 0 0 0 1 1 1 0 0 0 0 0 0 0 0 0 1 1 1 0 0 0 0 0 0\n",
      " 0 0 0 1 1 1 0 0 0 0 0 0 0 0 0 1 1 1 0 0 0 0 0 0 0 0 0 1 1 1 0 0 0 0 0 0 0\n",
      " 0 0 1 1 1 0 0 0 0 0 0 0 0 0 1 1 1 0 0 0 0 0 0 0 0 0 1 1 1 0 0 0 0 0 0 0 0\n",
      " 0 1 1 1 0 0 0 0 0 0 0 0 0 1 1 1 0 0 0 0 0 0 0 0 0 1 1 1 0 0 0 0 0 0 0 0 0\n",
      " 1 1 1 0 0 0 0 0 0 0 0 0 1 1 1 0 0 0 0 0 0 0 0 0 1 1 1 0 0 0 0 0 0 0 0 0 1\n",
      " 1 1 0 0 0 0 0 0 0 0 0 1 1 1 0 0 0 0 0 0 0 0 0 1 1 1 0 0 0 0 0 0 0 0 0 1 1\n",
      " 1 0 0 0 0 0 0 0 0 0 1 1 1 0 0 0 0 0 0 0 0 0 1 1 1 0 0 0 0 0 0 0 0 0 1 1 1\n",
      " 0 0 0 0 0 0 0 0 0 1 1 1 0 0 0 0 0 0 0 0 0 1 1 1 0 0 0 0 0 0 0 0 0 1 1 1 0\n",
      " 0 0 0 0 0 0 0 0 1 1 1 0 0 0 0 0 0 0 0 0 1 1 1 0 0 0 0 0 0 0 0 0 1 1 1 0 0\n",
      " 0 0 0 0 0 0 0 1 1 1 0 0 0 0 0 0 0 0 0 1 1 1 0 0 0 0 0 0 0 0 0 1 1 1 0 0 0\n",
      " 0 0 0 0 0 0 1 1 1 0 0 0 0 0 0 0 0 0 1 1 1 0 0 0 0 0 0 0 0 0 1 1 1 0 0 0 0\n",
      " 0 0 0 0 0 1 1 1 0 0 0 0 0 0 0 0 0 1 1]\n"
     ]
    },
    {
     "data": {
      "image/png": "[encoded data removed]",
      "text/plain": [
       "<Figure size 432x288 with 1 Axes>"
      ]
     },
     "metadata": {
      "needs_background": "light"
     },
     "output_type": "display_data"
    }
   ],
   "source": [
    "# Question 1\n",
    "\n",
    "# Find a dataset with at least four variables & at least 100 cases & apply clustering to the dataset\n",
    "# data source: https://www.kaggle.com/iamhungundji/covid19-symptoms-checker?select=Cleaned-Data.csv\n",
    "symptoms = pd.read_csv('Cleaned-Data.csv')\n",
    "# symptoms.head()\n",
    "# symptoms.columns\n",
    "symps = symptoms[['Age_0-9', 'Age_10-19', 'Age_20-24', 'Age_25-59', 'Age_60+', 'Severity_Mild', \n",
    "                  'Severity_Moderate', 'Severity_None', 'Severity_Severe', 'Gender_Female']]\n",
    "print(symps.head())\n",
    "# symps.isnull().sum()\n",
    "\n",
    "# Scale the data using an appropriate scaler\n",
    "X = symps.iloc[0:500,0:9]\n",
    "print(X)\n",
    "y = pre.LabelEncoder().fit_transform(X.iloc[:,-1])\n",
    "print(y)\n",
    "\n",
    "# Conduct a principal component analysis \n",
    "pca = PCA(n_components = 2)\n",
    "pca = pca.fit(X)\n",
    "X_pca = pca.transform(X)\n",
    "X_pca.shape    \n",
    "    \n",
    "# Construct a dendrogram using agglomerative clustering to see how many clusters will be optimal to specify in \n",
    "# the kmeans clustering.\n",
    "def plot_dendrogram(model, **kwargs):\n",
    "    # Create linkage matrix and then plot the dendrogram\n",
    "    # create the counts of samples under each node\n",
    "    counts = np.zeros(model.children_.shape[0])\n",
    "    n_samples = len(model.labels_)\n",
    "    for i, merge in enumerate(model.children_):\n",
    "        current_count = 0 \n",
    "        for child_idx in merge:\n",
    "            if child_idx < n_samples:\n",
    "                current_count += 1\n",
    "                # leaf node\n",
    "            else:\n",
    "                current_count += counts[child_idx - n_samples]\n",
    "        counts[i] = current_count\n",
    "    linkage_matrix = np.column_stack([model.children_, model.distances_,\n",
    "                                      counts]).astype(float)\n",
    "                \n",
    "    # Plot the corresponding dendrogram\n",
    "    dendrogram(linkage_matrix, **kwargs)\n",
    "    \n",
    "# setting distance_threshold = 0 ensures we compute the full tree.\n",
    "model = cluster.AgglomerativeClustering(distance_threshold = 0, n_clusters = None)\n",
    "                                        \n",
    "model = model.fit(X_pca)\n",
    "plt.title('Hierarchical Clustering Dendrogram')\n",
    "# plot the top three levels of the dendrogram\n",
    "plot_dendrogram(model, truncate_mode='level', p = 3)\n",
    "plt.xlabel(\"Number of points in node (or index of point if no parentheesis).\")\n",
    "plt.show()    "
   ]
  },
  {
   "cell_type": "code",
   "execution_count": 111,
   "metadata": {},
   "outputs": [
    {
     "name": "stdout",
     "output_type": "stream",
     "text": [
      "[0 0 0 2 2 2 1 1 1 1 1 1 0 0 0 2 2 2 1 1 1 1 1 1 0 0 0 2 2 2 1 1 1 1 1 1 0\n",
      " 0 0 2 2 2 1 1 1 1 1 1 0 0 0 2 2 2 1 1 1 1 1 1 0 0 0 2 2 2 1 1 1 1 1 1 0 0\n",
      " 0 2 2 2 1 1 1 1 1 1 0 0 0 2 2 2 1 1 1 1 1 1 0 0 0 2 2 2 1 1 1 1 1 1 0 0 0\n",
      " 2 2 2 1 1 1 1 1 1 0 0 0 2 2 2 1 1 1 1 1 1 0 0 0 2 2 2 1 1 1 1 1 1 0 0 0 2\n",
      " 2 2 1 1 1 1 1 1 0 0 0 2 2 2 1 1 1 1 1 1 0 0 0 2 2 2 1 1 1 1 1 1 0 0 0 2 2\n",
      " 2 1 1 1 1 1 1 0 0 0 2 2 2 1 1 1 1 1 1 0 0 0 2 2 2 1 1 1 1 1 1 0 0 0 2 2 2\n",
      " 1 1 1 1 1 1 0 0 0 2 2 2 1 1 1 1 1 1 0 0 0 2 2 2 1 1 1 1 1 1 0 0 0 2 2 2 1\n",
      " 1 1 1 1 1 0 0 0 2 2 2 1 1 1 1 1 1 0 0 0 2 2 2 1 1 1 1 1 1 0 0 0 2 2 2 1 1\n",
      " 1 1 1 1 0 0 0 2 2 2 1 1 1 1 1 1 0 0 0 2 2 2 1 1 1 1 1 1 0 0 0 2 2 2 1 1 1\n",
      " 1 1 1 0 0 0 2 2 2 1 1 1 1 1 1 0 0 0 2 2 2 1 1 1 1 1 1 0 0 0 2 2 2 1 1 1 1\n",
      " 1 1 0 0 0 2 2 2 1 1 1 1 1 1 0 0 0 2 2 2 1 1 1 1 1 1 0 0 0 2 2 2 1 1 1 1 1\n",
      " 1 0 0 0 2 2 2 1 1 1 1 1 1 0 0 0 2 2 2 1 1 1 1 1 1 0 0 0 2 2 2 1 1 1 1 1 1\n",
      " 0 0 0 2 2 2 1 1 1 1 1 1 0 0 0 2 2 2 1 1 1 1 1 1 0 0 0 2 2 2 1 1 1 1 1 1 0\n",
      " 0 0 2 2 2 1 1 1 1 1 1 0 0 0 2 2 2 1 1]\n",
      "[0 0 0 0 0 0 1 1 1 0 0 0 0 0 0 0 0 0 1 1 1 0 0 0 0 0 0 0 0 0 1 1 1 0 0 0 0\n",
      " 0 0 0 0 0 1 1 1 0 0 0 0 0 0 0 0 0 1 1 1 0 0 0 0 0 0 0 0 0 1 1 1 0 0 0 0 0\n",
      " 0 0 0 0 1 1 1 0 0 0 0 0 0 0 0 0 1 1 1 0 0 0 0 0 0 0 0 0 1 1 1 0 0 0 0 0 0\n",
      " 0 0 0 1 1 1 0 0 0 0 0 0 0 0 0 1 1 1 0 0 0 0 0 0 0 0 0 1 1 1 0 0 0 0 0 0 0\n",
      " 0 0 1 1 1 0 0 0 0 0 0 0 0 0 1 1 1 0 0 0 0 0 0 0 0 0 1 1 1 0 0 0 0 0 0 0 0\n",
      " 0 1 1 1 0 0 0 0 0 0 0 0 0 1 1 1 0 0 0 0 0 0 0 0 0 1 1 1 0 0 0 0 0 0 0 0 0\n",
      " 1 1 1 0 0 0 0 0 0 0 0 0 1 1 1 0 0 0 0 0 0 0 0 0 1 1 1 0 0 0 0 0 0 0 0 0 1\n",
      " 1 1 0 0 0 0 0 0 0 0 0 1 1 1 0 0 0 0 0 0 0 0 0 1 1 1 0 0 0 0 0 0 0 0 0 1 1\n",
      " 1 0 0 0 0 0 0 0 0 0 1 1 1 0 0 0 0 0 0 0 0 0 1 1 1 0 0 0 0 0 0 0 0 0 1 1 1\n",
      " 0 0 0 0 0 0 0 0 0 1 1 1 0 0 0 0 0 0 0 0 0 1 1 1 0 0 0 0 0 0 0 0 0 1 1 1 0\n",
      " 0 0 0 0 0 0 0 0 1 1 1 0 0 0 0 0 0 0 0 0 1 1 1 0 0 0 0 0 0 0 0 0 1 1 1 0 0\n",
      " 0 0 0 0 0 0 0 1 1 1 0 0 0 0 0 0 0 0 0 1 1 1 0 0 0 0 0 0 0 0 0 1 1 1 0 0 0\n",
      " 0 0 0 0 0 0 1 1 1 0 0 0 0 0 0 0 0 0 1 1 1 0 0 0 0 0 0 0 0 0 1 1 1 0 0 0 0\n",
      " 0 0 0 0 0 1 1 1 0 0 0 0 0 0 0 0 0 1 1]\n"
     ]
    },
    {
     "data": {
      "text/plain": [
       "<matplotlib.collections.PathCollection at 0x19bc7068b08>"
      ]
     },
     "execution_count": 111,
     "metadata": {},
     "output_type": "execute_result"
    },
    {
     "data": {
      "image/png": "[encoded data removed]",
      "text/plain": [
       "<Figure size 432x288 with 1 Axes>"
      ]
     },
     "metadata": {
      "needs_background": "light"
     },
     "output_type": "display_data"
    }
   ],
   "source": [
    "# Implement a kmeans clustering to find the clusters in the data\n",
    "clu = cluster.KMeans(n_clusters = 3)\n",
    "clu = clu.fit(X_pca)    \n",
    "    \n",
    "# Predict the clusters\n",
    "y_pred = clu.predict(X_pca)\n",
    "print(y_pred)\n",
    "print(y)   \n",
    "    \n",
    "# Visualize the clusters\n",
    "plt.scatter(X_pca[:,0], X_pca[:,1], c = y_pred)"
   ]
  },
  {
   "cell_type": "code",
   "execution_count": 112,
   "metadata": {},
   "outputs": [
    {
     "data": {
      "text/plain": [
       "<matplotlib.collections.PathCollection at 0x19bc731dac8>"
      ]
     },
     "execution_count": 112,
     "metadata": {},
     "output_type": "execute_result"
    },
    {
     "data": {
      "image/png": "[encoded data removed]",
      "text/plain": [
       "<Figure size 432x288 with 1 Axes>"
      ]
     },
     "metadata": {
      "needs_background": "light"
     },
     "output_type": "display_data"
    }
   ],
   "source": [
    "plt.scatter(X_pca[:,0], X_pca[:,1], c = y)"
   ]
  },
  {
   "cell_type": "code",
   "execution_count": 113,
   "metadata": {},
   "outputs": [
    {
     "name": "stderr",
     "output_type": "stream",
     "text": [
      "C:\\Users\\brend\\anaconda3\\lib\\site-packages\\ipykernel_launcher.py:6: ConvergenceWarning: Number of distinct clusters (4) found smaller than n_clusters (5). Possibly due to duplicate points in X.\n",
      "  \n",
      "C:\\Users\\brend\\anaconda3\\lib\\site-packages\\ipykernel_launcher.py:6: ConvergenceWarning: Number of distinct clusters (4) found smaller than n_clusters (6). Possibly due to duplicate points in X.\n",
      "  \n",
      "C:\\Users\\brend\\anaconda3\\lib\\site-packages\\ipykernel_launcher.py:6: ConvergenceWarning: Number of distinct clusters (4) found smaller than n_clusters (7). Possibly due to duplicate points in X.\n",
      "  \n",
      "C:\\Users\\brend\\anaconda3\\lib\\site-packages\\ipykernel_launcher.py:6: ConvergenceWarning: Number of distinct clusters (4) found smaller than n_clusters (8). Possibly due to duplicate points in X.\n",
      "  \n",
      "C:\\Users\\brend\\anaconda3\\lib\\site-packages\\ipykernel_launcher.py:6: ConvergenceWarning: Number of distinct clusters (4) found smaller than n_clusters (9). Possibly due to duplicate points in X.\n",
      "  \n"
     ]
    },
    {
     "data": {
      "text/plain": [
       "[<matplotlib.lines.Line2D at 0x19bc700d248>]"
      ]
     },
     "execution_count": 113,
     "metadata": {},
     "output_type": "execute_result"
    },
    {
     "data": {
      "image/png": "[encoded data removed]",
      "text/plain": [
       "<Figure size 432x288 with 1 Axes>"
      ]
     },
     "metadata": {
      "needs_background": "light"
     },
     "output_type": "display_data"
    }
   ],
   "source": [
    "# Also use a loop and a plot to tune the number of clusters. \n",
    "n_clusters = list(range(1, 10))\n",
    "within_cluster_var = []\n",
    "for i in n_clusters:\n",
    "    clu = cluster.KMeans(n_clusters = i)\n",
    "    clu = clu.fit(X_pca)\n",
    "    within_cluster_var.append(clu.inertia_)\n",
    "    \n",
    "plt.plot(within_cluster_var)\n",
    "\n",
    "# Q: Does the number of clusters obtained parallel the number of clusters obtained using the dendrogram?\n",
    "# A: Yes it does."
   ]
  },
  {
   "cell_type": "code",
   "execution_count": 114,
   "metadata": {},
   "outputs": [
    {
     "data": {
      "image/png": "[encoded data removed]",
      "text/plain": [
       "<Figure size 432x288 with 1 Axes>"
      ]
     },
     "metadata": {
      "needs_background": "light"
     },
     "output_type": "display_data"
    },
    {
     "data": {
      "image/png": "[encoded data removed]",
      "text/plain": [
       "<Figure size 432x288 with 1 Axes>"
      ]
     },
     "metadata": {
      "needs_background": "light"
     },
     "output_type": "display_data"
    }
   ],
   "source": [
    "# Add the cluster values to your original dataset to be the labels \n",
    "dat = X.copy()\n",
    "dat['Clusters'] = y_pred\n",
    "# dat.columns\n",
    "\n",
    "# Using tools in sklearn, run a logistic regression on the original dataset with new labels to classify cases into the \n",
    "# clusters or labels.\n",
    "\n",
    "# extract the outcome & input variables \n",
    "y = y\n",
    "X = dat[['Age_0-9', 'Age_10-19', 'Age_20-24', 'Age_25-59', 'Age_60+',\n",
    "       'Severity_Mild', 'Severity_Moderate', 'Severity_None',\n",
    "       'Severity_Severe', 'Clusters']]\n",
    "\n",
    "# randomly split data into train and test datasets\n",
    "# let the test dataset to be 30% of the data\n",
    "X_train, X_test, y_train, y_test = train_test_split(X, y, test_size = 0.3, random_state = 10)\n",
    "\n",
    "# check the size of train dataset\n",
    "len(X_train), len(y_train)\n",
    "# check the size of the test dataset\n",
    "len(X_test), len(y_test)\n",
    "X_train.head()\n",
    "\n",
    "# check the shape of \"Severity_Mild\" X_train & X_test datasets \n",
    "X_train[\"Severity_Mild\"].plot(kind=  \"kde\", label = \"train\")\n",
    "X_test[\"Severity_Mild\"].plot(kind = \"kde\", label = \"test\")\n",
    "plt.legend()\n",
    "plt.show()    \n",
    "\n",
    "# check the shape of \"Severity_Severe\" X_train & X_test datasets\n",
    "X_train[\"Severity_Severe\"].plot(kind = \"kde\", label = \"train\")\n",
    "X_test[\"Severity_Severe\"].plot(kind = \"kde\", label = \"test\")\n",
    "plt.legend()\n",
    "plt.show()    "
   ]
  },
  {
   "cell_type": "code",
   "execution_count": 115,
   "metadata": {},
   "outputs": [
    {
     "name": "stdout",
     "output_type": "stream",
     "text": [
      "X_train: \n",
      " [[ 0.          0.          0.          0.          0.          1.73867435\n",
      "  -0.58394877 -0.60595998 -0.54433105 -1.41829447]\n",
      " [ 0.          0.          0.          0.          0.         -0.57515083\n",
      "   1.71247898 -0.60595998 -0.54433105  1.40217748]\n",
      " [ 0.          0.          0.          0.          0.         -0.57515083\n",
      "   1.71247898 -0.60595998 -0.54433105  1.40217748]\n",
      " [ 0.          0.          0.          0.          0.         -0.57515083\n",
      "   1.71247898 -0.60595998 -0.54433105  1.40217748]\n",
      " [ 0.          0.          0.          0.          0.         -0.57515083\n",
      "  -0.58394877 -0.60595998  1.83711731 -0.00805849]]\n",
      "X_test: \n",
      " [[ 0.          0.          0.          0.          0.         -0.59274898\n",
      "  -0.57221816 -0.48956044  1.52752523  0.018735  ]\n",
      " [ 0.          0.          0.          0.          0.         -0.59274898\n",
      "   1.74758521 -0.48956044 -0.65465367  1.42386026]\n",
      " [ 0.          0.          0.          0.          0.         -0.59274898\n",
      "  -0.57221816  2.04264872 -0.65465367  0.018735  ]\n",
      " [ 0.          0.          0.          0.          0.         -0.59274898\n",
      "  -0.57221816  2.04264872 -0.65465367  0.018735  ]\n",
      " [ 0.          0.          0.          0.          0.         -0.59274898\n",
      "  -0.57221816  2.04264872 -0.65465367  0.018735  ]]\n",
      "        0    1    2    3    4             5             6             7  \\\n",
      "mean  0.0  0.0  0.0  0.0  0.0  1.776357e-17  1.227589e-16 -6.344132e-17   \n",
      "std   0.0  0.0  0.0  0.0  0.0  1.001432e+00  1.001432e+00  1.001432e+00   \n",
      "\n",
      "                 8             9  \n",
      "mean  1.167320e-16 -5.709718e-17  \n",
      "std   1.001432e+00  1.001432e+00  \n",
      "        0    1    2    3    4             5             6             7  \\\n",
      "mean  0.0  0.0  0.0  0.0  0.0  8.437695e-17 -2.072416e-17  1.117625e-16   \n",
      "std   0.0  0.0  0.0  0.0  0.0  1.003350e+00  1.003350e+00  1.003350e+00   \n",
      "\n",
      "                 8             9  \n",
      "mean -2.220446e-17  2.960595e-17  \n",
      "std   1.003350e+00  1.003350e+00  \n"
     ]
    },
    {
     "data": {
      "image/png": "[encoded data removed]",
      "text/plain": [
       "<Figure size 432x288 with 1 Axes>"
      ]
     },
     "metadata": {
      "needs_background": "light"
     },
     "output_type": "display_data"
    },
    {
     "name": "stdout",
     "output_type": "stream",
     "text": [
      "Accuracy: 1.0\n",
      "Confusion Matrix: \n",
      " [[105   0]\n",
      " [  0  45]]\n"
     ]
    }
   ],
   "source": [
    "# standardize the input train data\n",
    "X_train_sc = StandardScaler().fit_transform(X_train)\n",
    "X_train_sc\n",
    "\n",
    "# standardize the input test data\n",
    "X_test_sc = StandardScaler().fit_transform(X_test)\n",
    "\n",
    "#view just the first 5 rows\n",
    "print('X_train: \\n', X_train_sc[0:5, :])\n",
    "print('X_test: \\n', X_test_sc[0:5, :])\n",
    "\n",
    "# check the mean of the train data \n",
    "print(pd.DataFrame(X_train_sc).agg([\"mean\", \"std\"]))\n",
    "# check the mean of the test data \n",
    "print(pd.DataFrame(X_test_sc).agg([\"mean\", \"std\"]))\n",
    "\n",
    "# Tune the cutoff value, c, of the logistic regression constructor in sklearn and plot the error rates and the \n",
    "# corresponding settings of c. note that the cutoff c ranges from 0 to 1.\n",
    "pd.DataFrame(np.linalg.pinv(X_train_sc)).plot(kind = \"kde\", legend = False)\n",
    "plt.show()\n",
    "\n",
    "logmodel = LogisticRegression()\n",
    "logmodel.fit(X_train_sc, y_train)\n",
    "\n",
    "# Use the optimal cut off to compute the accuracy of your logistic regression.\n",
    "accuracy = logmodel.score(X_test_sc, y_test)\n",
    "print('Accuracy:', accuracy)\n",
    "\n",
    "predictions = logmodel.predict(X_test_sc)\n",
    "cm = confusion_matrix(y_test, predictions)\n",
    "print('Confusion Matrix:','\\n', cm)\n",
    "\n",
    "# Try if you can interpret or describe what the clusters represent based on the pattern of values in the data set and the \n",
    "# cluster. Example, if the data was only age and income, maybe clusters one is young and richer, cluster two may be rich \n",
    "# seniors and cluster three are poor youths. Your visualization can also help with this interpretation. \n",
    "\n",
    "# Q: Do you think the clustering algorithm found good clusters that can be used for classification? \n",
    "# A: Yes I do"
   ]
  },
  {
   "cell_type": "code",
   "execution_count": 157,
   "metadata": {},
   "outputs": [
    {
     "name": "stdout",
     "output_type": "stream",
     "text": [
      "   daterep  day  month  year  cases  deaths countriesandterritories geoid  \\\n",
      "0      NaN   28      4  2020    172       0             Afghanistan    AF   \n",
      "1      NaN   27      4  2020     68      10             Afghanistan    AF   \n",
      "2      NaN   26      4  2020    112       4             Afghanistan    AF   \n",
      "3      NaN   25      4  2020     70       1             Afghanistan    AF   \n",
      "4      NaN   24      4  2020    105       2             Afghanistan    AF   \n",
      "\n",
      "  countryterritorycode  popdata2018 continentexp  \n",
      "0                  AFG   37172386.0         Asia  \n",
      "1                  AFG   37172386.0         Asia  \n",
      "2                  AFG   37172386.0         Asia  \n",
      "3                  AFG   37172386.0         Asia  \n",
      "4                  AFG   37172386.0         Asia  \n",
      "daterep                    13623\n",
      "day                            0\n",
      "month                          0\n",
      "year                           0\n",
      "cases                          0\n",
      "deaths                         0\n",
      "countriesandterritories        0\n",
      "geoid                         45\n",
      "countryterritorycode         152\n",
      "popdata2018                  126\n",
      "continentexp                   0\n",
      "dtype: int64\n",
      "year           0\n",
      "cases          0\n",
      "deaths         0\n",
      "popdata2018    0\n",
      "dtype: int64\n",
      "(13497, 4)\n",
      "   year  cases  popdata2018     death\n",
      "0  2020    172   37172386.0  0.000000\n",
      "1  2020     68   37172386.0  0.002029\n",
      "2  2020    112   37172386.0  0.000812\n",
      "3  2020     70   37172386.0  0.000203\n",
      "4  2020    105   37172386.0  0.000406\n",
      "year           0\n",
      "cases          0\n",
      "popdata2018    0\n",
      "death          0\n",
      "dtype: int64\n",
      "year           0\n",
      "cases          0\n",
      "popdata2018    0\n",
      "death          0\n",
      "dtype: int64\n",
      "(13497, 4)\n",
      "   year  cases  popdata2018     death\n",
      "0  2020    172   37172386.0  0.000000\n",
      "1  2020     68   37172386.0  0.002029\n",
      "2  2020    112   37172386.0  0.000812\n",
      "3  2020     70   37172386.0  0.000203\n",
      "4  2020    105   37172386.0  0.000406\n",
      "Warning: Maximum number of iterations has been exceeded.\n",
      "         Current function value: 0.003811\n",
      "         Iterations: 35\n",
      "                          Results: Logit\n",
      "===================================================================\n",
      "Model:                Logit             Pseudo R-squared:  -1.349  \n",
      "Dependent Variable:   death             AIC:               108.8812\n",
      "Date:                 2020-11-27 01:46  BIC:               131.4118\n",
      "No. Observations:     13497             Log-Likelihood:    -51.441 \n",
      "Df Model:             2                 LL-Null:           -21.903 \n",
      "Df Residuals:         13494             LLR p-value:       1.0000  \n",
      "Converged:            0.0000            Scale:             1.0000  \n",
      "No. Iterations:       35.0000                                      \n",
      "-------------------------------------------------------------------\n",
      "              Coef.    Std.Err.    z    P>|z|    [0.025     0.975] \n",
      "-------------------------------------------------------------------\n",
      "Intercept   3425.3413 2383.1649  1.4373 0.1506 -1245.5760 8096.2586\n",
      "year          -1.6988    1.1798 -1.4399 0.1499    -4.0112    0.6136\n",
      "cases          0.0002    0.0000 12.2528 0.0000     0.0002    0.0002\n",
      "popdata2018    0.0000    0.0000  0.8492 0.3958    -0.0000    0.0000\n",
      "===================================================================\n",
      "\n"
     ]
    },
    {
     "name": "stderr",
     "output_type": "stream",
     "text": [
      "C:\\Users\\brend\\anaconda3\\lib\\site-packages\\statsmodels\\base\\model.py:568: ConvergenceWarning: Maximum Likelihood optimization failed to converge. Check mle_retvals\n",
      "  \"Check mle_retvals\", ConvergenceWarning)\n"
     ]
    }
   ],
   "source": [
    "# Question 2\n",
    "\n",
    "# A) - Find another dataset that is suitable for logistic regression and run LR on the data using the statsmodel package\n",
    "CDat = pd.read_csv('current-data-on-the-geographic-distribution-of-covid-19-cases-worldwide.csv')\n",
    "print(CDat.head())\n",
    "print(CDat.isnull().sum())\n",
    "CD = CDat.drop(['day', 'month', 'daterep', 'countriesandterritories', 'geoid', 'countryterritorycode', 'continentexp'], axis=1)\n",
    "CD = CD.dropna()\n",
    "print(CD.isnull().sum())\n",
    "print(CD.shape)\n",
    "\n",
    "x = CD['deaths'].values\n",
    "x = x.reshape(-1, 1)\n",
    "min_max_scaler = pre.MinMaxScaler()\n",
    "x_scaled = min_max_scaler.fit_transform(x)\n",
    "\n",
    "COV_df = CD[['year', 'cases', 'popdata2018']]\n",
    "COV_df['death'] = x_scaled\n",
    "print(COV_df.head())\n",
    "\n",
    "print(COV_df.isnull().sum())\n",
    "COV = COV_df.dropna()\n",
    "print(COV.isnull().sum())\n",
    "print(COV.shape)\n",
    "print(COV.head())\n",
    "\n",
    "formula = \"death ~ year + cases + popdata2018\"\n",
    "model = sm.logit(formula = formula, data = COV).fit()\n",
    "print(model.summary2())"
   ]
  },
  {
   "cell_type": "code",
   "execution_count": 166,
   "metadata": {},
   "outputs": [
    {
     "name": "stdout",
     "output_type": "stream",
     "text": [
      "                     coef  exp_coef\n",
      "Intercept    3.425341e+03       inf\n",
      "year        -1.698805e+00  0.182902\n",
      "cases        2.018644e-04  1.000202\n",
      "popdata2018  5.757476e-10  1.000000\n",
      "Intercept      3.425341e+03\n",
      "year          -1.698805e+00\n",
      "cases          2.018644e-04\n",
      "popdata2018    5.757476e-10\n",
      "dtype: float64\n"
     ]
    },
    {
     "name": "stderr",
     "output_type": "stream",
     "text": [
      "C:\\Users\\brend\\anaconda3\\lib\\site-packages\\pandas\\core\\series.py:679: RuntimeWarning: overflow encountered in exp\n",
      "  result = getattr(ufunc, method)(*inputs, **kwargs)\n"
     ]
    },
    {
     "data": {
      "text/plain": [
       "Intercept           inf\n",
       "year           0.182902\n",
       "cases          1.000202\n",
       "popdata2018    1.000000\n",
       "dtype: float64"
      ]
     },
     "execution_count": 166,
     "metadata": {},
     "output_type": "execute_result"
    }
   ],
   "source": [
    "# B) - Print the results & interpret the parameter coefficients for each input variable: \n",
    "\n",
    "# logistic regression coefficients \n",
    "results = pd.DataFrame(model.params, columns = [\"coef\"])\n",
    "results[\"exp_coef\"] = np.exp(model.params)\n",
    "print(results)\n",
    "\n",
    "coef = model.params\n",
    "print(coef)\n",
    "np.exp(coef)"
   ]
  },
  {
   "cell_type": "markdown",
   "metadata": {},
   "source": [
    "C) - Evaluate the model\n",
    "\n",
    "The coefficients of the logistic regression model can be interpreted as follows:\n",
    "   \n",
    "   \n",
    "    -The year coefficient is -1.698805e+00, meaning that if every other factor is held constant and the year \n",
    "    is increased by 1, the log odd would increase by -1.698805e+00, and therefore the odds of dying from COVID would\n",
    "    increase by exp(-1.698805e+00) = 0.182902\n",
    "\n",
    "\n",
    "    -If cases increases by 1 unit, the odds of dying would increase by 2.018644e-04\n",
    "\n",
    "\n",
    "    -If the popdata2018 increases by 1, the odds of dying would increase by 5.757476e-10"
   ]
  }
 ],
 "metadata": {
  "kernelspec": {
   "display_name": "Python 3",
   "language": "python",
   "name": "python3"
  },
  "language_info": {
   "codemirror_mode": {
    "name": "ipython",
    "version": 3
   },
   "file_extension": ".py",
   "mimetype": "text/x-python",
   "name": "python",
   "nbconvert_exporter": "python",
   "pygments_lexer": "ipython3",
   "version": "3.7.6"
  }
 },
 "nbformat": 4,
 "nbformat_minor": 4
}
